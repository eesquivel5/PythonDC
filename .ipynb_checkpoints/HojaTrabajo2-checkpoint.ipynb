{
 "cells": [
  {
   "cell_type": "code",
   "execution_count": 1,
   "metadata": {},
   "outputs": [
    {
     "data": {
      "text/html": [
       "<img src='universidadgalileo.jpg', width=300, height=300>\n"
      ],
      "text/plain": [
       "<IPython.core.display.HTML object>"
      ]
     },
     "metadata": {},
     "output_type": "display_data"
    }
   ],
   "source": [
    "%%html\n",
    "<img src='universidadgalileo.jpg', width=300, height=300>"
   ]
  },
  {
   "cell_type": "markdown",
   "metadata": {},
   "source": [
    "### Universidad Galileo"
   ]
  },
  {
   "cell_type": "markdown",
   "metadata": {},
   "source": [
    "### Maestría en Data Science"
   ]
  },
  {
   "cell_type": "markdown",
   "metadata": {},
   "source": [
    "### Ciencia de Datos en Python"
   ]
  },
  {
   "cell_type": "markdown",
   "metadata": {},
   "source": [
    "### Ing Preng Biba"
   ]
  },
  {
   "cell_type": "markdown",
   "metadata": {},
   "source": [
    "|Hoja de Trabajo 2|\n",
    "|:-----:|\n",
    "|Sintaxis, Listas y Tuplas|"
   ]
  },
  {
   "cell_type": "markdown",
   "metadata": {},
   "source": [
    "|Nombre|Carnet|Fecha|\n",
    "|:-----|:-------:|------:|\n",
    "|Tomás Ernesto Esquivel Ramos|21004407|21/02/2020|"
   ]
  },
  {
   "cell_type": "markdown",
   "metadata": {},
   "source": [
    "# Parte #1 - (Programación y Sintaxis):"
   ]
  },
  {
   "cell_type": "markdown",
   "metadata": {},
   "source": [
    "#### 1. Haga un programa en Python que reciba de parámetro un número de segundos y que despliegue en pantalla, las horas, minutos y segundos que representan."
   ]
  },
  {
   "cell_type": "code",
   "execution_count": 2,
   "metadata": {},
   "outputs": [
    {
     "name": "stdin",
     "output_type": "stream",
     "text": [
      "Ingrese un Numero en Segundos:  5871\n"
     ]
    },
    {
     "name": "stdout",
     "output_type": "stream",
     "text": [
      "Horas: 1 , Minutos: 37 , Segundos:  51\n"
     ]
    }
   ],
   "source": [
    "try:\n",
    "    segundos_reales = int(input(\"Ingrese un Numero en Segundos: \"))\n",
    "    segundos = segundos_reales % 60\n",
    "    minutos_calculados = segundos_reales // 60\n",
    "    minutos = minutos_calculados % 60\n",
    "    horas = minutos_calculados // 60\n",
    "    print(\"Horas:\",horas,\",\",\"Minutos:\",minutos,\",\",\"Segundos: \",segundos)\n",
    "except ValueError as e:\n",
    "    print(\"El formato ingresado no es correcto.\")\n",
    "except Exception as e:\n",
    "    print(type(e))"
   ]
  },
  {
   "cell_type": "markdown",
   "metadata": {},
   "source": [
    "#### 2. Haga una función en Python que dado un número entre 1 y 20. Y un carácter cualquiera despliegue cuatro patrones triangulares."
   ]
  },
  {
   "cell_type": "code",
   "execution_count": 3,
   "metadata": {},
   "outputs": [
    {
     "name": "stdin",
     "output_type": "stream",
     "text": [
      "Ingrese un valor entre 1 y 20:  20\n"
     ]
    },
    {
     "name": "stdout",
     "output_type": "stream",
     "text": [
      "*                       ********************                       ********************                       *\n",
      "**                       *******************                       *******************                       **\n",
      "***                       ******************                       ******************                       ***\n",
      "****                       *****************                       *****************                       ****\n",
      "*****                       ****************                       ****************                       *****\n",
      "******                       ***************                       ***************                       ******\n",
      "*******                       **************                       **************                       *******\n",
      "********                       *************                       *************                       ********\n",
      "*********                       ************                       ************                       *********\n",
      "**********                       ***********                       ***********                       **********\n",
      "***********                       **********                       **********                       ***********\n",
      "************                       *********                       *********                       ************\n",
      "*************                       ********                       ********                       *************\n",
      "**************                       *******                       *******                       **************\n",
      "***************                       ******                       ******                       ***************\n",
      "****************                       *****                       *****                       ****************\n",
      "*****************                       ****                       ****                       *****************\n",
      "******************                       ***                       ***                       ******************\n",
      "*******************                       **                       **                       *******************\n",
      "********************                       *                       *                       ********************\n"
     ]
    }
   ],
   "source": [
    "try:\n",
    "    numero = int(input(\"Ingrese un valor entre 1 y 20: \"))\n",
    "    if (numero<=20):\n",
    "        for i in range(numero):\n",
    "            print(\"*\" * (i+1),\" \"*(numero+1),\"*\"*(numero-i), \" \" * (numero+1), \"*\" * (numero-i), \" \" * (numero+1), \"*\" * (i+1))\n",
    "    else:\n",
    "        print(\"El numero ingresado sobrepasa el límite aceptado.\")\n",
    "except ValueError as e:\n",
    "    print(\"El formato ingresado no es correcto.\")\n",
    "except Exception as e:\n",
    "    print(type(e))"
   ]
  },
  {
   "cell_type": "markdown",
   "metadata": {},
   "source": [
    "#### 3. Haga un programa en Python que la fecha de nacimiento de una persona (puede ingresar por separado cada valor, es decir pedir primero día, luego mes y luego año), despliegue la edad de la persona en años, meses y días."
   ]
  },
  {
   "cell_type": "code",
   "execution_count": 4,
   "metadata": {},
   "outputs": [
    {
     "name": "stdin",
     "output_type": "stream",
     "text": [
      "Ingrese Año de nacimiento:  1984\n",
      "Ingrese Mes de nacimiento:  6\n",
      "Ingrese Dia de nacimiento:  5\n"
     ]
    },
    {
     "name": "stdout",
     "output_type": "stream",
     "text": [
      "36 Años 8 Meses 16 Dias\n"
     ]
    }
   ],
   "source": [
    "import datetime\n",
    "try:\n",
    "    class Edad_Nacimiento:\n",
    "        def __init__(self, fechaN):\n",
    "            self.fechaN=fechaN\n",
    "        def edad(self):\n",
    "            hoy = datetime.date.today()\n",
    "            fechanacimiento = self.fechaN\n",
    "            anios = hoy.year - fechanacimiento.year - ((hoy.month, hoy.day) < (fechanacimiento.month, fechanacimiento.day))\n",
    "            meses = (hoy.month - fechanacimiento.month - (hoy.day < fechanacimiento.day)) %12\n",
    "            dias = (hoy.day - fechanacimiento.day - (hoy.day < fechanacimiento.day)) %30\n",
    "            print(anios,\"Años\",meses,\"Meses\",dias,\"Dias\")\n",
    "    año = int(input(\"Ingrese Año de nacimiento: \"))\n",
    "    mes = int(input(\"Ingrese Mes de nacimiento: \"))\n",
    "    dia = int(input(\"Ingrese Dia de nacimiento: \"))\n",
    "    Edad_N = Edad_Nacimiento(datetime.date(año,mes,dia))\n",
    "    Edad_N.edad()\n",
    "except ValueError as e:\n",
    "    print(\"El formato ingresado no es correcto.\")\n",
    "except Exception as e:\n",
    "    print(type(e))"
   ]
  },
  {
   "cell_type": "markdown",
   "metadata": {},
   "source": [
    "# Parte #2 - (Estructuras de Datos):"
   ]
  },
  {
   "cell_type": "markdown",
   "metadata": {},
   "source": [
    "#### 1. Escriba una función en Python que dada una tupla de elementos (números o letras) esta se convierta a un string."
   ]
  },
  {
   "cell_type": "code",
   "execution_count": 5,
   "metadata": {},
   "outputs": [
    {
     "name": "stdout",
     "output_type": "stream",
     "text": [
      "12345TomasEsquivelDataScienceIIOTrue\n"
     ]
    }
   ],
   "source": [
    "def String():\n",
    "    tupla = (1,2,3,4,5, 'Tomas', 'Esquivel', 'DataScience', 'IIO', True)\n",
    "    print(\"\".join(map(str, tupla)))\n",
    "String()"
   ]
  },
  {
   "cell_type": "markdown",
   "metadata": {},
   "source": [
    "#### 2. Cree un programa en Python que, dada una lista de tuplas, elimine las tuplas que están vacías."
   ]
  },
  {
   "cell_type": "code",
   "execution_count": 6,
   "metadata": {},
   "outputs": [
    {
     "data": {
      "text/plain": [
       "[('DataScience',), ('Tomas', 'Esquivel'), (1, 2), (3,), (True,), 'd']"
      ]
     },
     "execution_count": 6,
     "metadata": {},
     "output_type": "execute_result"
    }
   ],
   "source": [
    "Lista = [(), (), ('DataScience',), ('Tomas', 'Esquivel'), (1, 2), (3,), (True,), ('d')] \n",
    "Lista = [x for x in Lista if x] \n",
    "Lista"
   ]
  },
  {
   "cell_type": "markdown",
   "metadata": {},
   "source": [
    "#### 3. Cree una función en Python que, dada una tupla de tuplas con números, produzca una tupla con el promedio de cada tupla individual."
   ]
  },
  {
   "cell_type": "code",
   "execution_count": 7,
   "metadata": {},
   "outputs": [
    {
     "name": "stdout",
     "output_type": "stream",
     "text": [
      "(10.5, 44.0, 58.0)\n"
     ]
    }
   ],
   "source": [
    "def promedios():\n",
    "    tupla = ((10, 10, 10, 12), (30, 45, 56, 45), (81,80,39,32))\n",
    "    lista = []\n",
    "    for i in tupla:\n",
    "        lista.append(sum(i)/len(i))\n",
    "        tupla2 = (tuple(item for item in lista))\n",
    "    print(tupla2)\n",
    "promedios()"
   ]
  }
 ],
 "metadata": {
  "kernelspec": {
   "display_name": "Python 3",
   "language": "python",
   "name": "python3"
  },
  "language_info": {
   "codemirror_mode": {
    "name": "ipython",
    "version": 3
   },
   "file_extension": ".py",
   "mimetype": "text/x-python",
   "name": "python",
   "nbconvert_exporter": "python",
   "pygments_lexer": "ipython3",
   "version": "3.8.5"
  }
 },
 "nbformat": 4,
 "nbformat_minor": 4
}
