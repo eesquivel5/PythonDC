{
 "cells": [
  {
   "cell_type": "code",
   "execution_count": 1,
   "metadata": {},
   "outputs": [
    {
     "data": {
      "text/html": [
       "<img src='universidadgalileo.jpg', width=300, height=300>\n"
      ],
      "text/plain": [
       "<IPython.core.display.HTML object>"
      ]
     },
     "metadata": {},
     "output_type": "display_data"
    }
   ],
   "source": [
    "%%html\n",
    "<img src='universidadgalileo.jpg', width=300, height=300>"
   ]
  },
  {
   "cell_type": "markdown",
   "metadata": {},
   "source": [
    "### Universidad Galileo"
   ]
  },
  {
   "cell_type": "markdown",
   "metadata": {},
   "source": [
    "### Maestría en Data Science"
   ]
  },
  {
   "cell_type": "markdown",
   "metadata": {},
   "source": [
    "### Ciencia de Datos en Python"
   ]
  },
  {
   "cell_type": "markdown",
   "metadata": {},
   "source": [
    "### Ing Preng Biba"
   ]
  },
  {
   "cell_type": "markdown",
   "metadata": {},
   "source": [
    "|Hoja de Trabajo 3|\n",
    "|:-----:|\n",
    "|Diccionarios, Sets y Programación Orientada a Objetos|"
   ]
  },
  {
   "cell_type": "markdown",
   "metadata": {},
   "source": [
    "|Nombre|Carnet|Fecha|\n",
    "|:-----|:-------:|------:|\n",
    "|Tomás Ernesto Esquivel Ramos|21004407|13/03/2020|"
   ]
  },
  {
   "cell_type": "markdown",
   "metadata": {},
   "source": [
    "# Parte #1 - (Programación Orientada a Objetos):"
   ]
  },
  {
   "cell_type": "markdown",
   "metadata": {},
   "source": [
    "#### Genere una clase llamada ?my regresion? en Python puro (sin utilizar ninguna librería) que sea capaz de encontrar de forma analítica los coeficientes de una regresión lineal (β0 y β1). Su clase debe poseer los siguientes campos: β0, β1 los cuales representan los parámetros de la regresión, X y Y los cuales representan la lista de valores con los que se calcularon los parámetros de la regresión. Adicionalmente su clase debe poseer los siguientes métodos:"
   ]
  },
  {
   "cell_type": "code",
   "execution_count": 1,
   "metadata": {},
   "outputs": [],
   "source": [
    "class My_regresion():\n",
    "    #Constructor Principal\n",
    "    def __init__ (self, x, y):\n",
    "        xy = [x*y for x,y in zip(x,y)]\n",
    "        xx = [x**2 for x in x]\n",
    "        self.b0 = ((len(xy)*sum(xy))-(sum(x)*sum(y)))/((len(xy)*sum(xx))-(sum(x)**2))\n",
    "        self.b1 = ((sum(y)*sum(xx))-(sum(x)*sum(xy)))/((len(xy)*sum(xx))-(sum(x)**2))\n",
    "        self.x = x\n",
    "        self.y = y\n",
    "    \n",
    "    #Método Predict. Val\n",
    "    def predict(self, val):\n",
    "        predict = ((self.b0*val)+self.b1)\n",
    "        return predict\n",
    "    \n",
    "    #Método Predict. Vals\n",
    "    def predictN(self, vals):\n",
    "        predictN = [(self.b0*vals)+self.b1 for vals in vals]\n",
    "        return predictN\n",
    "    \n",
    "    #Método r2.\n",
    "    def r2(self):\n",
    "        ypromedio = sum(self.y)/len(self.y)\n",
    "        numerador = [((((self.b0*(self.x))+self.b1)-(ypromedio))**2) for self.x in self.x]\n",
    "        denominador = [(((ypromedio)-self.y)**2) for self.y in self.y]\n",
    "        self.r2 = sum(numerador)/sum(denominador)\n",
    "        return self.r2\n",
    "    \n",
    "    #Método r.\n",
    "    def r(self):\n",
    "        self.r = (self.r2**(1/2.0))\n",
    "        return self.r\n",
    "    \n",
    "    #Método Diccionario de Datos.\n",
    "    def getAllParams(self):\n",
    "        diccionario = {'b0':self.b0, 'b1':self.b1, 'r2':self.r2, 'r':self.r}\n",
    "        return diccionario\n",
    "    \n",
    "    #Método Lectura de CSV.\n",
    "    @classmethod\n",
    "    def from_file(cls, path):\n",
    "        archivo = open(path)\n",
    "        lista = []\n",
    "        cfloat = []\n",
    "        y = []\n",
    "        x = []\n",
    "        for i in archivo:\n",
    "            lista.append(i.rstrip(\"\\r\\n\").split(\",\"))\n",
    "        lista.pop(0)\n",
    "        for r in lista:\n",
    "            cfloat.append([float(i) for i in r] )\n",
    "        for i in cfloat:\n",
    "            y.append(i[0])\n",
    "        for i in cfloat:\n",
    "            x.append(i[1])\n",
    "        return cls(x, y)"
   ]
  },
  {
   "cell_type": "markdown",
   "metadata": {},
   "source": [
    "### Constructor from file(fileName):"
   ]
  },
  {
   "cell_type": "code",
   "execution_count": 2,
   "metadata": {},
   "outputs": [],
   "source": [
    "regresion = My_regresion.from_file(\"Advertising.csv\")"
   ]
  },
  {
   "cell_type": "markdown",
   "metadata": {},
   "source": [
    "### Método Predict(val):"
   ]
  },
  {
   "cell_type": "code",
   "execution_count": 3,
   "metadata": {},
   "outputs": [
    {
     "data": {
      "text/plain": [
       "17.97077451276554"
      ]
     },
     "execution_count": 3,
     "metadata": {},
     "output_type": "execute_result"
    }
   ],
   "source": [
    "regresion.predict(230.1)"
   ]
  },
  {
   "cell_type": "markdown",
   "metadata": {},
   "source": [
    "### Método Predict(val):"
   ]
  },
  {
   "cell_type": "code",
   "execution_count": 4,
   "metadata": {},
   "outputs": [
    {
     "data": {
      "text/plain": [
       "[8.125936279087172, 8.125936279087172, 7.603033234323957, 8.55376604298435]"
      ]
     },
     "execution_count": 4,
     "metadata": {},
     "output_type": "execute_result"
    }
   ],
   "source": [
    "lista=[23,23,12,32]\n",
    "regresion.predictN(lista)"
   ]
  },
  {
   "cell_type": "markdown",
   "metadata": {},
   "source": [
    "### Método r2():"
   ]
  },
  {
   "cell_type": "code",
   "execution_count": 5,
   "metadata": {},
   "outputs": [
    {
     "data": {
      "text/plain": [
       "0.6118750508500685"
      ]
     },
     "execution_count": 5,
     "metadata": {},
     "output_type": "execute_result"
    }
   ],
   "source": [
    "regresion.r2()"
   ]
  },
  {
   "cell_type": "markdown",
   "metadata": {},
   "source": [
    "### Método r():"
   ]
  },
  {
   "cell_type": "code",
   "execution_count": 6,
   "metadata": {},
   "outputs": [
    {
     "data": {
      "text/plain": [
       "0.7822244248616049"
      ]
     },
     "execution_count": 6,
     "metadata": {},
     "output_type": "execute_result"
    }
   ],
   "source": [
    "regresion.r()"
   ]
  },
  {
   "cell_type": "markdown",
   "metadata": {},
   "source": [
    "### Método getAllRegParams():"
   ]
  },
  {
   "cell_type": "code",
   "execution_count": 7,
   "metadata": {},
   "outputs": [
    {
     "data": {
      "text/plain": [
       "{'b0': 0.04753664043301965,\n",
       " 'b1': 7.0325935491277205,\n",
       " 'r2': 0.6118750508500685,\n",
       " 'r': 0.7822244248616049}"
      ]
     },
     "execution_count": 7,
     "metadata": {},
     "output_type": "execute_result"
    }
   ],
   "source": [
    "regresion.getAllParams()"
   ]
  },
  {
   "cell_type": "markdown",
   "metadata": {},
   "source": [
    "### Diccionario de Clase:"
   ]
  },
  {
   "cell_type": "code",
   "execution_count": 8,
   "metadata": {},
   "outputs": [
    {
     "data": {
      "text/plain": [
       "{'b0': 0.04753664043301965,\n",
       " 'b1': 7.0325935491277205,\n",
       " 'x': 232.1,\n",
       " 'y': 13.4,\n",
       " 'r2': 0.6118750508500685,\n",
       " 'r': 0.7822244248616049}"
      ]
     },
     "execution_count": 8,
     "metadata": {},
     "output_type": "execute_result"
    }
   ],
   "source": [
    "regresion.__dict__"
   ]
  }
 ],
 "metadata": {
  "kernelspec": {
   "display_name": "Python 3",
   "language": "python",
   "name": "python3"
  },
  "language_info": {
   "codemirror_mode": {
    "name": "ipython",
    "version": 3
   },
   "file_extension": ".py",
   "mimetype": "text/x-python",
   "name": "python",
   "nbconvert_exporter": "python",
   "pygments_lexer": "ipython3",
   "version": "3.8.5"
  }
 },
 "nbformat": 4,
 "nbformat_minor": 4
}
